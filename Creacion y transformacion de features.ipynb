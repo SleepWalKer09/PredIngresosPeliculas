{
 "cells": [
  {
   "cell_type": "markdown",
   "id": "84b91022",
   "metadata": {},
   "source": [
    "# Escalamiento de los datos"
   ]
  },
  {
   "cell_type": "markdown",
   "id": "fb1b5755",
   "metadata": {},
   "source": [
    "Lo que el profesor está haciendo con la transformación de features se llama “interacción de variables” y en ocasiones eso genera mejores resultados en una regresión. Por ejemplo la venta de una casa depende del precio, pero también depende de su tamaño, entonces la interacción entre precio y tamaño suele expresarse como una multiplicación entre los valores de cada observación y ese nuevo resultado se vuelve una variable de interacción."
   ]
  },
  {
   "cell_type": "code",
   "execution_count": 2,
   "id": "6d8a3ed9",
   "metadata": {},
   "outputs": [],
   "source": [
    "%matplotlib inline\n",
    "import numpy as np\n",
    "import pandas as pd\n",
    "import matplotlib.pyplot as plt"
   ]
  },
  {
   "cell_type": "markdown",
   "id": "d750cc1f",
   "metadata": {},
   "source": [
    "Diversios algoritmos son sensibles a la escala en la que viene cada feature, **Re-escalarlos** puede tener significativas mejoras de rendimiento"
   ]
  },
  {
   "cell_type": "code",
   "execution_count": 3,
   "id": "666b06f6",
   "metadata": {},
   "outputs": [],
   "source": [
    "from sklearn.model_selection import train_test_split\n",
    "\n",
    "X=pd.read_csv('./X.csv')\n",
    "y = X['worldwide_gross']\n",
    "X = X.drop('worldwide_gross',axis=1)\n",
    "X_train, X_test, y_train, y_test = train_test_split(X,y)"
   ]
  },
  {
   "cell_type": "code",
   "execution_count": 4,
   "id": "f26cddf7",
   "metadata": {},
   "outputs": [
    {
     "data": {
      "text/plain": [
       "StandardScaler()"
      ]
     },
     "execution_count": 4,
     "metadata": {},
     "output_type": "execute_result"
    }
   ],
   "source": [
    "from sklearn.preprocessing import StandardScaler\n",
    "scaler = StandardScaler()\n",
    "scaler.fit(X_train)"
   ]
  },
  {
   "cell_type": "code",
   "execution_count": 5,
   "id": "60b690fa",
   "metadata": {},
   "outputs": [
    {
     "data": {
      "text/plain": [
       "array([3.16539328e+07, 2.00238406e+03, 2.15353335e+00, 1.07623566e+02,\n",
       "       3.51205842e+07, 6.42548662e+00, 4.87678621e+07])"
      ]
     },
     "execution_count": 5,
     "metadata": {},
     "output_type": "execute_result"
    }
   ],
   "source": [
    "#promedio de features\n",
    "scaler.mean_"
   ]
  },
  {
   "cell_type": "code",
   "execution_count": 6,
   "id": "4e793468",
   "metadata": {},
   "outputs": [
    {
     "data": {
      "text/plain": [
       "array([4.12049618e+07, 1.23960237e+01, 9.79325700e-01, 2.28191442e+01,\n",
       "       5.84159239e+07, 1.09815209e+00, 6.33824617e+07])"
      ]
     },
     "execution_count": 6,
     "metadata": {},
     "output_type": "execute_result"
    }
   ],
   "source": [
    "#desviacion estandard de cada feature\n",
    "scaler.scale_"
   ]
  },
  {
   "cell_type": "code",
   "execution_count": 7,
   "id": "d3f414e0",
   "metadata": {},
   "outputs": [
    {
     "data": {
      "text/plain": [
       "array([[-0.69103165, -4.54856033, -0.80007433, ..., -0.54677872,\n",
       "         1.98015684, -0.00842686],\n",
       "       [-0.28282839,  0.45304355,  0.20061421, ..., -0.39579249,\n",
       "        -1.93551206, -0.65895424],\n",
       "       [-0.7439379 , -0.1923247 , -0.30994117, ..., -0.58409731,\n",
       "        -0.38745691, -0.76921699],\n",
       "       ...,\n",
       "       [-0.404173  ,  0.93706973,  0.20061421, ..., -0.34443663,\n",
       "         0.61422583, -0.17181256],\n",
       "       [ 0.44523927,  0.13035942, -0.30994117, ...,  0.25471506,\n",
       "        -0.38745691, -0.17799441],\n",
       "       [-0.76213959, -0.11165367, -0.30994117, ..., -0.59693628,\n",
       "         0.4321017 , -0.70336383]])"
      ]
     },
     "execution_count": 7,
     "metadata": {},
     "output_type": "execute_result"
    }
   ],
   "source": [
    "#valores centrados en 0 y en escalas parecidas\n",
    "scaler.transform(X_train)"
   ]
  },
  {
   "cell_type": "code",
   "execution_count": 8,
   "id": "9504d2f5",
   "metadata": {},
   "outputs": [],
   "source": [
    "X_train_scaled, X_test_scaled = (scaler.transform(X_train), scaler.transform(X_test))"
   ]
  },
  {
   "cell_type": "code",
   "execution_count": 9,
   "id": "22acd5cc",
   "metadata": {},
   "outputs": [
    {
     "name": "stderr",
     "output_type": "stream",
     "text": [
      "C:\\Users\\chris\\anaconda3\\lib\\site-packages\\sklearn\\linear_model\\_coordinate_descent.py:647: ConvergenceWarning: Objective did not converge. You might want to increase the number of iterations, check the scale of the features or consider increasing regularisation. Duality gap: 3.349e+18, tolerance: 1.001e+16\n",
      "  model = cd_fast.enet_coordinate_descent(\n"
     ]
    },
    {
     "data": {
      "text/plain": [
       "Lasso()"
      ]
     },
     "execution_count": 9,
     "metadata": {},
     "output_type": "execute_result"
    }
   ],
   "source": [
    "from sklearn.linear_model import Lasso\n",
    "model = Lasso()\n",
    "model_scaled = Lasso()\n",
    "\n",
    "model.fit(X_train, y_train)\n",
    "model_scaled.fit(X_train_scaled,y_train)"
   ]
  },
  {
   "cell_type": "code",
   "execution_count": 10,
   "id": "6342fe17",
   "metadata": {},
   "outputs": [
    {
     "name": "stdout",
     "output_type": "stream",
     "text": [
      "0.840434269628989\n",
      "0.8404343154757754\n"
     ]
    }
   ],
   "source": [
    "print(model.score(X_test,y_test))\n",
    "print(model_scaled.score(X_test_scaled,y_test))"
   ]
  },
  {
   "cell_type": "markdown",
   "id": "adfd9c53",
   "metadata": {},
   "source": [
    "Los modelos de regresion **no** se ven afectados por el escalamiento de features.\n",
    "\n",
    "**Los de clasificacion si**"
   ]
  },
  {
   "cell_type": "markdown",
   "id": "ad667a79",
   "metadata": {},
   "source": [
    "##  Las regresiones no necesitan escalamiento, mientras que las Clasificaciones si lo necesitan"
   ]
  },
  {
   "cell_type": "markdown",
   "id": "28a5ef38",
   "metadata": {},
   "source": [
    "# Simplificar las transformaciones con Pipelines\n",
    "\n",
    "Para hacer el codigo mas reproducible y para evitar tener que aplicar multiples veces una misma transformacion es recomendable utilizar *sklearn.pipeline.make_pipeline* que permite encadenar transformaciones a los modelos"
   ]
  },
  {
   "cell_type": "code",
   "execution_count": 12,
   "id": "1b410d88",
   "metadata": {},
   "outputs": [
    {
     "data": {
      "text/plain": [
       "Pipeline(steps=[('standardscaler', StandardScaler()), ('lasso', Lasso())])"
      ]
     },
     "execution_count": 12,
     "metadata": {},
     "output_type": "execute_result"
    }
   ],
   "source": [
    "from sklearn.pipeline import make_pipeline\n",
    "\n",
    "model_scaled = make_pipeline(StandardScaler(), Lasso())\n",
    "\n",
    "model_scaled.fit(X_train,y_train)"
   ]
  },
  {
   "cell_type": "code",
   "execution_count": 13,
   "id": "81191e99",
   "metadata": {},
   "outputs": [
    {
     "name": "stdout",
     "output_type": "stream",
     "text": [
      "0.8404343154757754\n"
     ]
    }
   ],
   "source": [
    "print(model_scaled.score(X_test,y_test))"
   ]
  },
  {
   "cell_type": "markdown",
   "id": "a4bf7d06",
   "metadata": {},
   "source": [
    "### Crear features automaticamente"
   ]
  },
  {
   "cell_type": "code",
   "execution_count": 14,
   "id": "6777b15a",
   "metadata": {},
   "outputs": [
    {
     "data": {
      "text/plain": [
       "array([[0, 1],\n",
       "       [2, 3],\n",
       "       [4, 5]])"
      ]
     },
     "execution_count": 14,
     "metadata": {},
     "output_type": "execute_result"
    }
   ],
   "source": [
    "A = np.arange(6).reshape(3,2)\n",
    "A"
   ]
  },
  {
   "cell_type": "code",
   "execution_count": 17,
   "id": "0f8f432b",
   "metadata": {},
   "outputs": [
    {
     "data": {
      "text/plain": [
       "array([[ 1.,  0.,  1.,  0.,  0.,  1.],\n",
       "       [ 1.,  2.,  3.,  4.,  6.,  9.],\n",
       "       [ 1.,  4.,  5., 16., 20., 25.]])"
      ]
     },
     "execution_count": 17,
     "metadata": {},
     "output_type": "execute_result"
    }
   ],
   "source": [
    "from sklearn.preprocessing import PolynomialFeatures\n",
    "transformer = PolynomialFeatures(2)#grado del polinomio a ocupar\n",
    "transformer.fit(A)\n",
    "transformer.transform(A)"
   ]
  },
  {
   "cell_type": "code",
   "execution_count": 18,
   "id": "379323e8",
   "metadata": {},
   "outputs": [
    {
     "data": {
      "text/plain": [
       "(4385, 7)"
      ]
     },
     "execution_count": 18,
     "metadata": {},
     "output_type": "execute_result"
    }
   ],
   "source": [
    "X.shape"
   ]
  },
  {
   "cell_type": "code",
   "execution_count": 19,
   "id": "aacd5e1f",
   "metadata": {},
   "outputs": [
    {
     "data": {
      "text/plain": [
       "(4385, 36)"
      ]
     },
     "execution_count": 19,
     "metadata": {},
     "output_type": "execute_result"
    }
   ],
   "source": [
    "#genera todos los polinomios posibles con todos los features posibles\n",
    "transformer = PolynomialFeatures(2)\n",
    "transformer.fit_transform(X).shape\n",
    "\n",
    "#se generan un total de 36 features"
   ]
  },
  {
   "cell_type": "code",
   "execution_count": 20,
   "id": "5cc7601b",
   "metadata": {},
   "outputs": [
    {
     "name": "stderr",
     "output_type": "stream",
     "text": [
      "C:\\Users\\chris\\anaconda3\\lib\\site-packages\\sklearn\\linear_model\\_coordinate_descent.py:647: ConvergenceWarning: Objective did not converge. You might want to increase the number of iterations, check the scale of the features or consider increasing regularisation. Duality gap: 5.448e+18, tolerance: 1.001e+16\n",
      "  model = cd_fast.enet_coordinate_descent(\n"
     ]
    },
    {
     "data": {
      "text/plain": [
       "-3.5705337391568435"
      ]
     },
     "execution_count": 20,
     "metadata": {},
     "output_type": "execute_result"
    }
   ],
   "source": [
    "model_poly = make_pipeline(PolynomialFeatures(2),\n",
    "                          Lasso())\n",
    "model_poly.fit(X_train,y_train)\n",
    "model_poly.score(X_test,y_test)"
   ]
  },
  {
   "cell_type": "markdown",
   "id": "d781a001",
   "metadata": {},
   "source": [
    "# Crear features categoricas\n",
    "\n",
    "Son todas aquellas que tienen valores de un conjunto finito ej. pais,genero,calificacion "
   ]
  },
  {
   "cell_type": "markdown",
   "id": "3d22cca5",
   "metadata": {},
   "source": [
    "Un mapeo del tipo (Peru,Chile,Colombia,Venezuela) -> (1,2,3,4) tiene el problema de asignarle un orden a los valores posibles de la categoria. Este orden impacta de distintas maneras a los algoritmo de ML por ejemplo aquellos que dependen de la topologia de R^n y de la funcion de distancia entre puntos en este espacio, consideraran que ciertas categorias se enceuntran mas cercanas unas de otras siendo que esto es generado puramente por el encoder de manera artificial y no por los datos per se.\n",
    "\n",
    "Para no introducir informacion falsa o erronea en nuestros modelos existen formas mas inteligentes de encodear nuestros datos\n",
    "\n",
    "**Encoding one-hot**\n",
    "\n",
    "Este encoding consite en asignar una columna a cada categoria y rellenarla con 0 y 1 de la siguiente manera:"
   ]
  },
  {
   "cell_type": "code",
   "execution_count": 22,
   "id": "e261ea35",
   "metadata": {},
   "outputs": [
    {
     "data": {
      "text/html": [
       "<div>\n",
       "<style scoped>\n",
       "    .dataframe tbody tr th:only-of-type {\n",
       "        vertical-align: middle;\n",
       "    }\n",
       "\n",
       "    .dataframe tbody tr th {\n",
       "        vertical-align: top;\n",
       "    }\n",
       "\n",
       "    .dataframe thead th {\n",
       "        text-align: right;\n",
       "    }\n",
       "</style>\n",
       "<table border=\"1\" class=\"dataframe\">\n",
       "  <thead>\n",
       "    <tr style=\"text-align: right;\">\n",
       "      <th></th>\n",
       "      <th>pais</th>\n",
       "      <th>genero</th>\n",
       "    </tr>\n",
       "  </thead>\n",
       "  <tbody>\n",
       "    <tr>\n",
       "      <th>0</th>\n",
       "      <td>Chile</td>\n",
       "      <td>H</td>\n",
       "    </tr>\n",
       "    <tr>\n",
       "      <th>1</th>\n",
       "      <td>Colombia</td>\n",
       "      <td>M</td>\n",
       "    </tr>\n",
       "    <tr>\n",
       "      <th>2</th>\n",
       "      <td>Peru</td>\n",
       "      <td>H</td>\n",
       "    </tr>\n",
       "    <tr>\n",
       "      <th>3</th>\n",
       "      <td>Venezuela</td>\n",
       "      <td>M</td>\n",
       "    </tr>\n",
       "  </tbody>\n",
       "</table>\n",
       "</div>"
      ],
      "text/plain": [
       "        pais genero\n",
       "0      Chile      H\n",
       "1   Colombia      M\n",
       "2       Peru      H\n",
       "3  Venezuela      M"
      ]
     },
     "execution_count": 22,
     "metadata": {},
     "output_type": "execute_result"
    }
   ],
   "source": [
    "d= pd.DataFrame([['Chile','Colombia','Peru','Venezuela'],['H','M','H','M']])\n",
    "d =d.T\n",
    "d.columns = pd.Index(['pais','genero'])\n",
    "d"
   ]
  },
  {
   "cell_type": "code",
   "execution_count": 23,
   "id": "a97f4f25",
   "metadata": {},
   "outputs": [
    {
     "data": {
      "text/html": [
       "<div>\n",
       "<style scoped>\n",
       "    .dataframe tbody tr th:only-of-type {\n",
       "        vertical-align: middle;\n",
       "    }\n",
       "\n",
       "    .dataframe tbody tr th {\n",
       "        vertical-align: top;\n",
       "    }\n",
       "\n",
       "    .dataframe thead th {\n",
       "        text-align: right;\n",
       "    }\n",
       "</style>\n",
       "<table border=\"1\" class=\"dataframe\">\n",
       "  <thead>\n",
       "    <tr style=\"text-align: right;\">\n",
       "      <th></th>\n",
       "      <th>pais_Chile</th>\n",
       "      <th>pais_Colombia</th>\n",
       "      <th>pais_Peru</th>\n",
       "      <th>pais_Venezuela</th>\n",
       "      <th>genero_H</th>\n",
       "      <th>genero_M</th>\n",
       "    </tr>\n",
       "  </thead>\n",
       "  <tbody>\n",
       "    <tr>\n",
       "      <th>0</th>\n",
       "      <td>1</td>\n",
       "      <td>0</td>\n",
       "      <td>0</td>\n",
       "      <td>0</td>\n",
       "      <td>1</td>\n",
       "      <td>0</td>\n",
       "    </tr>\n",
       "    <tr>\n",
       "      <th>1</th>\n",
       "      <td>0</td>\n",
       "      <td>1</td>\n",
       "      <td>0</td>\n",
       "      <td>0</td>\n",
       "      <td>0</td>\n",
       "      <td>1</td>\n",
       "    </tr>\n",
       "    <tr>\n",
       "      <th>2</th>\n",
       "      <td>0</td>\n",
       "      <td>0</td>\n",
       "      <td>1</td>\n",
       "      <td>0</td>\n",
       "      <td>1</td>\n",
       "      <td>0</td>\n",
       "    </tr>\n",
       "    <tr>\n",
       "      <th>3</th>\n",
       "      <td>0</td>\n",
       "      <td>0</td>\n",
       "      <td>0</td>\n",
       "      <td>1</td>\n",
       "      <td>0</td>\n",
       "      <td>1</td>\n",
       "    </tr>\n",
       "  </tbody>\n",
       "</table>\n",
       "</div>"
      ],
      "text/plain": [
       "   pais_Chile  pais_Colombia  pais_Peru  pais_Venezuela  genero_H  genero_M\n",
       "0           1              0          0               0         1         0\n",
       "1           0              1          0               0         0         1\n",
       "2           0              0          1               0         1         0\n",
       "3           0              0          0               1         0         1"
      ]
     },
     "execution_count": 23,
     "metadata": {},
     "output_type": "execute_result"
    }
   ],
   "source": [
    "#por cada valor en las columnas, se crea otra nueva\n",
    "pd.get_dummies(d)"
   ]
  },
  {
   "cell_type": "markdown",
   "id": "ec5a24c1",
   "metadata": {},
   "source": [
    "Sklearn tambien ofrece un objeto OneHotEncoder pero es un poco mas dificil de utilizar, asi que por criterios de la clase se ha elegido pd.get_dummies.\n",
    "\n",
    "Sin embargo el objeto de eklearn tiene una ventaja de ser pipeable, por lo que es bueno considerarlo para ciertos casos de uso\n",
    "\n",
    "Cuantas columnas se generarian con un one-hot-encoding de nuestras features categoricas??"
   ]
  },
  {
   "cell_type": "code",
   "execution_count": 24,
   "id": "19de248d",
   "metadata": {},
   "outputs": [
    {
     "data": {
      "text/html": [
       "<div>\n",
       "<style scoped>\n",
       "    .dataframe tbody tr th:only-of-type {\n",
       "        vertical-align: middle;\n",
       "    }\n",
       "\n",
       "    .dataframe tbody tr th {\n",
       "        vertical-align: top;\n",
       "    }\n",
       "\n",
       "    .dataframe thead th {\n",
       "        text-align: right;\n",
       "    }\n",
       "</style>\n",
       "<table border=\"1\" class=\"dataframe\">\n",
       "  <thead>\n",
       "    <tr style=\"text-align: right;\">\n",
       "      <th></th>\n",
       "      <th>movie_title</th>\n",
       "      <th>color</th>\n",
       "      <th>language</th>\n",
       "      <th>country</th>\n",
       "      <th>genres</th>\n",
       "      <th>content_rating</th>\n",
       "      <th>plot_keywords</th>\n",
       "      <th>director_name</th>\n",
       "      <th>actor_1_name</th>\n",
       "      <th>actor_2_name</th>\n",
       "      <th>actor_3_name</th>\n",
       "    </tr>\n",
       "  </thead>\n",
       "  <tbody>\n",
       "    <tr>\n",
       "      <th>0</th>\n",
       "      <td>Avatar</td>\n",
       "      <td>Color</td>\n",
       "      <td>English</td>\n",
       "      <td>USA</td>\n",
       "      <td>Action|Adventure|Fantasy|Sci-Fi</td>\n",
       "      <td>PG-13</td>\n",
       "      <td>avatar|future|marine|native|paraplegic</td>\n",
       "      <td>James Cameron</td>\n",
       "      <td>CCH Pounder</td>\n",
       "      <td>Joel David Moore</td>\n",
       "      <td>Wes Studi</td>\n",
       "    </tr>\n",
       "    <tr>\n",
       "      <th>1</th>\n",
       "      <td>Pirates of the Caribbean: At World's End</td>\n",
       "      <td>Color</td>\n",
       "      <td>English</td>\n",
       "      <td>USA</td>\n",
       "      <td>Action|Adventure|Fantasy</td>\n",
       "      <td>PG-13</td>\n",
       "      <td>goddess|marriage ceremony|marriage proposal|pi...</td>\n",
       "      <td>Gore Verbinski</td>\n",
       "      <td>Johnny Depp</td>\n",
       "      <td>Orlando Bloom</td>\n",
       "      <td>Jack Davenport</td>\n",
       "    </tr>\n",
       "    <tr>\n",
       "      <th>2</th>\n",
       "      <td>Spectre</td>\n",
       "      <td>Color</td>\n",
       "      <td>English</td>\n",
       "      <td>UK</td>\n",
       "      <td>Action|Adventure|Thriller</td>\n",
       "      <td>PG-13</td>\n",
       "      <td>bomb|espionage|sequel|spy|terrorist</td>\n",
       "      <td>Sam Mendes</td>\n",
       "      <td>Christoph Waltz</td>\n",
       "      <td>Rory Kinnear</td>\n",
       "      <td>Stephanie Sigman</td>\n",
       "    </tr>\n",
       "    <tr>\n",
       "      <th>3</th>\n",
       "      <td>The Dark Knight Rises</td>\n",
       "      <td>Color</td>\n",
       "      <td>English</td>\n",
       "      <td>USA</td>\n",
       "      <td>Action|Thriller</td>\n",
       "      <td>PG-13</td>\n",
       "      <td>deception|imprisonment|lawlessness|police offi...</td>\n",
       "      <td>Christopher Nolan</td>\n",
       "      <td>Tom Hardy</td>\n",
       "      <td>Christian Bale</td>\n",
       "      <td>Joseph Gordon-Levitt</td>\n",
       "    </tr>\n",
       "    <tr>\n",
       "      <th>4</th>\n",
       "      <td>Star Wars: Episode VII - The Force Awakens    ...</td>\n",
       "      <td>NaN</td>\n",
       "      <td>NaN</td>\n",
       "      <td>NaN</td>\n",
       "      <td>Documentary</td>\n",
       "      <td>NaN</td>\n",
       "      <td>NaN</td>\n",
       "      <td>Doug Walker</td>\n",
       "      <td>Doug Walker</td>\n",
       "      <td>Rob Walker</td>\n",
       "      <td>NaN</td>\n",
       "    </tr>\n",
       "    <tr>\n",
       "      <th>5</th>\n",
       "      <td>John Carter</td>\n",
       "      <td>Color</td>\n",
       "      <td>English</td>\n",
       "      <td>USA</td>\n",
       "      <td>Action|Adventure|Sci-Fi</td>\n",
       "      <td>PG-13</td>\n",
       "      <td>alien|american civil war|male nipple|mars|prin...</td>\n",
       "      <td>Andrew Stanton</td>\n",
       "      <td>Daryl Sabara</td>\n",
       "      <td>Samantha Morton</td>\n",
       "      <td>Polly Walker</td>\n",
       "    </tr>\n",
       "    <tr>\n",
       "      <th>6</th>\n",
       "      <td>Spider-Man 3</td>\n",
       "      <td>Color</td>\n",
       "      <td>English</td>\n",
       "      <td>USA</td>\n",
       "      <td>Action|Adventure|Romance</td>\n",
       "      <td>PG-13</td>\n",
       "      <td>sandman|spider man|symbiote|venom|villain</td>\n",
       "      <td>Sam Raimi</td>\n",
       "      <td>J.K. Simmons</td>\n",
       "      <td>James Franco</td>\n",
       "      <td>Kirsten Dunst</td>\n",
       "    </tr>\n",
       "    <tr>\n",
       "      <th>7</th>\n",
       "      <td>Tangled</td>\n",
       "      <td>Color</td>\n",
       "      <td>English</td>\n",
       "      <td>USA</td>\n",
       "      <td>Adventure|Animation|Comedy|Family|Fantasy|Musi...</td>\n",
       "      <td>PG</td>\n",
       "      <td>17th century|based on fairy tale|disney|flower...</td>\n",
       "      <td>Nathan Greno</td>\n",
       "      <td>Brad Garrett</td>\n",
       "      <td>Donna Murphy</td>\n",
       "      <td>M.C. Gainey</td>\n",
       "    </tr>\n",
       "    <tr>\n",
       "      <th>8</th>\n",
       "      <td>Avengers: Age of Ultron</td>\n",
       "      <td>Color</td>\n",
       "      <td>English</td>\n",
       "      <td>USA</td>\n",
       "      <td>Action|Adventure|Sci-Fi</td>\n",
       "      <td>PG-13</td>\n",
       "      <td>artificial intelligence|based on comic book|ca...</td>\n",
       "      <td>Joss Whedon</td>\n",
       "      <td>Chris Hemsworth</td>\n",
       "      <td>Robert Downey Jr.</td>\n",
       "      <td>Scarlett Johansson</td>\n",
       "    </tr>\n",
       "    <tr>\n",
       "      <th>9</th>\n",
       "      <td>Harry Potter and the Half-Blood Prince</td>\n",
       "      <td>Color</td>\n",
       "      <td>English</td>\n",
       "      <td>UK</td>\n",
       "      <td>Adventure|Family|Fantasy|Mystery</td>\n",
       "      <td>PG</td>\n",
       "      <td>blood|book|love|potion|professor</td>\n",
       "      <td>David Yates</td>\n",
       "      <td>Alan Rickman</td>\n",
       "      <td>Daniel Radcliffe</td>\n",
       "      <td>Rupert Grint</td>\n",
       "    </tr>\n",
       "  </tbody>\n",
       "</table>\n",
       "</div>"
      ],
      "text/plain": [
       "                                         movie_title  color language country  \\\n",
       "0                                            Avatar   Color  English     USA   \n",
       "1          Pirates of the Caribbean: At World's End   Color  English     USA   \n",
       "2                                           Spectre   Color  English      UK   \n",
       "3                             The Dark Knight Rises   Color  English     USA   \n",
       "4  Star Wars: Episode VII - The Force Awakens    ...    NaN      NaN     NaN   \n",
       "5                                       John Carter   Color  English     USA   \n",
       "6                                      Spider-Man 3   Color  English     USA   \n",
       "7                                           Tangled   Color  English     USA   \n",
       "8                           Avengers: Age of Ultron   Color  English     USA   \n",
       "9            Harry Potter and the Half-Blood Prince   Color  English      UK   \n",
       "\n",
       "                                              genres content_rating  \\\n",
       "0                    Action|Adventure|Fantasy|Sci-Fi          PG-13   \n",
       "1                           Action|Adventure|Fantasy          PG-13   \n",
       "2                          Action|Adventure|Thriller          PG-13   \n",
       "3                                    Action|Thriller          PG-13   \n",
       "4                                        Documentary            NaN   \n",
       "5                            Action|Adventure|Sci-Fi          PG-13   \n",
       "6                           Action|Adventure|Romance          PG-13   \n",
       "7  Adventure|Animation|Comedy|Family|Fantasy|Musi...             PG   \n",
       "8                            Action|Adventure|Sci-Fi          PG-13   \n",
       "9                   Adventure|Family|Fantasy|Mystery             PG   \n",
       "\n",
       "                                       plot_keywords      director_name  \\\n",
       "0             avatar|future|marine|native|paraplegic      James Cameron   \n",
       "1  goddess|marriage ceremony|marriage proposal|pi...     Gore Verbinski   \n",
       "2                bomb|espionage|sequel|spy|terrorist         Sam Mendes   \n",
       "3  deception|imprisonment|lawlessness|police offi...  Christopher Nolan   \n",
       "4                                                NaN        Doug Walker   \n",
       "5  alien|american civil war|male nipple|mars|prin...     Andrew Stanton   \n",
       "6          sandman|spider man|symbiote|venom|villain          Sam Raimi   \n",
       "7  17th century|based on fairy tale|disney|flower...       Nathan Greno   \n",
       "8  artificial intelligence|based on comic book|ca...        Joss Whedon   \n",
       "9                   blood|book|love|potion|professor        David Yates   \n",
       "\n",
       "      actor_1_name       actor_2_name          actor_3_name  \n",
       "0      CCH Pounder   Joel David Moore             Wes Studi  \n",
       "1      Johnny Depp      Orlando Bloom        Jack Davenport  \n",
       "2  Christoph Waltz       Rory Kinnear      Stephanie Sigman  \n",
       "3        Tom Hardy     Christian Bale  Joseph Gordon-Levitt  \n",
       "4      Doug Walker         Rob Walker                   NaN  \n",
       "5     Daryl Sabara    Samantha Morton          Polly Walker  \n",
       "6     J.K. Simmons       James Franco         Kirsten Dunst  \n",
       "7     Brad Garrett       Donna Murphy           M.C. Gainey  \n",
       "8  Chris Hemsworth  Robert Downey Jr.    Scarlett Johansson  \n",
       "9     Alan Rickman   Daniel Radcliffe          Rupert Grint  "
      ]
     },
     "execution_count": 24,
     "metadata": {},
     "output_type": "execute_result"
    }
   ],
   "source": [
    "movies_obj = pd.read_csv('C:\\\\Users\\\\chris\\\\Documents\\\\Jupyter Notebook\\\\PredIngresosPeliculas\\movies_obj.csv')\n",
    "movies_obj.head(10)"
   ]
  },
  {
   "cell_type": "code",
   "execution_count": 26,
   "id": "3cca773c",
   "metadata": {},
   "outputs": [
    {
     "data": {
      "text/plain": [
       "color                2\n",
       "content_rating      18\n",
       "language            47\n",
       "country             65\n",
       "genres             914\n",
       "actor_1_name      2097\n",
       "director_name     2398\n",
       "actor_2_name      3032\n",
       "actor_3_name      3521\n",
       "plot_keywords     4760\n",
       "movie_title       4917\n",
       "dtype: int64"
      ]
     },
     "execution_count": 26,
     "metadata": {},
     "output_type": "execute_result"
    }
   ],
   "source": [
    "movies_obj.apply(pd.Series.nunique).sort_values()"
   ]
  },
  {
   "cell_type": "markdown",
   "id": "414ae86d",
   "metadata": {},
   "source": [
    "Las features mas informativas son las del casting. Sin embargo haciendo un one-hot-encoding de estas estariamos aumentando la dimension por mas de 2000!!"
   ]
  },
  {
   "cell_type": "markdown",
   "id": "250eb8c7",
   "metadata": {},
   "source": [
    "## **Encoding Binario**"
   ]
  },
  {
   "cell_type": "markdown",
   "id": "f5d4920c",
   "metadata": {},
   "source": [
    "**Esta tecnica no forma parte del ejercicio, solo se explora la funcionalidad**\n",
    "\n",
    "No forma parte de sklearn, es parte de otra libreria, sin embargo el autor creo una API compatible con Sklearn asi que no supone un reto el utilizarla\n",
    "\n",
    "    Categorica -> Numero -> Binario ->Columnas\n",
    "    \n",
    "Se recomienda su uso cuando el one-hot-encoder genera miles de dimensiones"
   ]
  },
  {
   "cell_type": "code",
   "execution_count": 27,
   "id": "33454fab",
   "metadata": {},
   "outputs": [
    {
     "name": "stdout",
     "output_type": "stream",
     "text": [
      "Collecting category_encoders\n",
      "  Downloading category_encoders-2.5.1.post0-py2.py3-none-any.whl (72 kB)\n",
      "Requirement already satisfied: numpy>=1.14.0 in c:\\users\\chris\\anaconda3\\lib\\site-packages (from category_encoders) (1.21.5)\n",
      "Requirement already satisfied: patsy>=0.5.1 in c:\\users\\chris\\anaconda3\\lib\\site-packages (from category_encoders) (0.5.2)\n",
      "Requirement already satisfied: scipy>=1.0.0 in c:\\users\\chris\\anaconda3\\lib\\site-packages (from category_encoders) (1.7.3)\n",
      "Requirement already satisfied: pandas>=1.0.5 in c:\\users\\chris\\anaconda3\\lib\\site-packages (from category_encoders) (1.4.2)\n",
      "Requirement already satisfied: scikit-learn>=0.20.0 in c:\\users\\chris\\anaconda3\\lib\\site-packages (from category_encoders) (1.0.2)\n",
      "Requirement already satisfied: statsmodels>=0.9.0 in c:\\users\\chris\\anaconda3\\lib\\site-packages (from category_encoders) (0.13.2)\n",
      "Requirement already satisfied: python-dateutil>=2.8.1 in c:\\users\\chris\\anaconda3\\lib\\site-packages (from pandas>=1.0.5->category_encoders) (2.8.2)\n",
      "Requirement already satisfied: pytz>=2020.1 in c:\\users\\chris\\anaconda3\\lib\\site-packages (from pandas>=1.0.5->category_encoders) (2021.3)\n",
      "Requirement already satisfied: six in c:\\users\\chris\\anaconda3\\lib\\site-packages (from patsy>=0.5.1->category_encoders) (1.16.0)\n",
      "Requirement already satisfied: threadpoolctl>=2.0.0 in c:\\users\\chris\\anaconda3\\lib\\site-packages (from scikit-learn>=0.20.0->category_encoders) (2.2.0)\n",
      "Requirement already satisfied: joblib>=0.11 in c:\\users\\chris\\anaconda3\\lib\\site-packages (from scikit-learn>=0.20.0->category_encoders) (1.1.0)\n",
      "Requirement already satisfied: packaging>=21.3 in c:\\users\\chris\\anaconda3\\lib\\site-packages (from statsmodels>=0.9.0->category_encoders) (21.3)\n",
      "Requirement already satisfied: pyparsing!=3.0.5,>=2.0.2 in c:\\users\\chris\\anaconda3\\lib\\site-packages (from packaging>=21.3->statsmodels>=0.9.0->category_encoders) (3.0.4)\n",
      "Installing collected packages: category-encoders\n",
      "Successfully installed category-encoders-2.5.1.post0\n"
     ]
    }
   ],
   "source": [
    "#Se debe instalar\n",
    "!pip install category_encoders"
   ]
  },
  {
   "cell_type": "code",
   "execution_count": 28,
   "id": "369738f9",
   "metadata": {},
   "outputs": [
    {
     "data": {
      "text/html": [
       "<div>\n",
       "<style scoped>\n",
       "    .dataframe tbody tr th:only-of-type {\n",
       "        vertical-align: middle;\n",
       "    }\n",
       "\n",
       "    .dataframe tbody tr th {\n",
       "        vertical-align: top;\n",
       "    }\n",
       "\n",
       "    .dataframe thead th {\n",
       "        text-align: right;\n",
       "    }\n",
       "</style>\n",
       "<table border=\"1\" class=\"dataframe\">\n",
       "  <thead>\n",
       "    <tr style=\"text-align: right;\">\n",
       "      <th></th>\n",
       "      <th>actor_1_name</th>\n",
       "      <th>director_name</th>\n",
       "    </tr>\n",
       "    <tr>\n",
       "      <th>Unnamed: 0</th>\n",
       "      <th></th>\n",
       "      <th></th>\n",
       "    </tr>\n",
       "  </thead>\n",
       "  <tbody>\n",
       "    <tr>\n",
       "      <th>0</th>\n",
       "      <td>CCH Pounder</td>\n",
       "      <td>James Cameron</td>\n",
       "    </tr>\n",
       "    <tr>\n",
       "      <th>1</th>\n",
       "      <td>Doug Walker</td>\n",
       "      <td>Doug Walker</td>\n",
       "    </tr>\n",
       "  </tbody>\n",
       "</table>\n",
       "</div>"
      ],
      "text/plain": [
       "           actor_1_name  director_name\n",
       "Unnamed: 0                            \n",
       "0           CCH Pounder  James Cameron\n",
       "1           Doug Walker    Doug Walker"
      ]
     },
     "execution_count": 28,
     "metadata": {},
     "output_type": "execute_result"
    }
   ],
   "source": [
    "categoricals =  pd.read_csv('C:\\\\Users\\\\chris\\\\Documents\\\\Jupyter Notebook\\\\PredIngresosPeliculas\\\\categoricals.csv').set_index('Unnamed: 0')\n",
    "categoricals.head(2)"
   ]
  },
  {
   "cell_type": "code",
   "execution_count": 29,
   "id": "d0ea7980",
   "metadata": {},
   "outputs": [],
   "source": [
    "categoricals = categoricals.reset_index(drop=True).fillna(0)\n",
    "#se rellena con 0 porque son menos de 10 los espacios en blanco"
   ]
  },
  {
   "cell_type": "code",
   "execution_count": 40,
   "id": "cbec0151",
   "metadata": {},
   "outputs": [
    {
     "data": {
      "text/html": [
       "<div>\n",
       "<style scoped>\n",
       "    .dataframe tbody tr th:only-of-type {\n",
       "        vertical-align: middle;\n",
       "    }\n",
       "\n",
       "    .dataframe tbody tr th {\n",
       "        vertical-align: top;\n",
       "    }\n",
       "\n",
       "    .dataframe thead th {\n",
       "        text-align: right;\n",
       "    }\n",
       "</style>\n",
       "<table border=\"1\" class=\"dataframe\">\n",
       "  <thead>\n",
       "    <tr style=\"text-align: right;\">\n",
       "      <th></th>\n",
       "      <th>production_budget</th>\n",
       "      <th>title_year</th>\n",
       "      <th>aspect_ratio</th>\n",
       "      <th>duration</th>\n",
       "      <th>budget</th>\n",
       "      <th>imdb_score</th>\n",
       "      <th>gross</th>\n",
       "      <th>actor_1_name</th>\n",
       "      <th>director_name</th>\n",
       "    </tr>\n",
       "  </thead>\n",
       "  <tbody>\n",
       "    <tr>\n",
       "      <th>0</th>\n",
       "      <td>425000000.0</td>\n",
       "      <td>2009.00000</td>\n",
       "      <td>1.780000</td>\n",
       "      <td>178.000000</td>\n",
       "      <td>2.370000e+08</td>\n",
       "      <td>7.9</td>\n",
       "      <td>7.605058e+08</td>\n",
       "      <td>CCH Pounder</td>\n",
       "      <td>James Cameron</td>\n",
       "    </tr>\n",
       "    <tr>\n",
       "      <th>1</th>\n",
       "      <td>306000000.0</td>\n",
       "      <td>2002.41877</td>\n",
       "      <td>2.151445</td>\n",
       "      <td>107.628545</td>\n",
       "      <td>3.825188e+07</td>\n",
       "      <td>7.1</td>\n",
       "      <td>4.823375e+07</td>\n",
       "      <td>Doug Walker</td>\n",
       "      <td>Doug Walker</td>\n",
       "    </tr>\n",
       "  </tbody>\n",
       "</table>\n",
       "</div>"
      ],
      "text/plain": [
       "   production_budget  title_year  aspect_ratio    duration        budget  \\\n",
       "0        425000000.0  2009.00000      1.780000  178.000000  2.370000e+08   \n",
       "1        306000000.0  2002.41877      2.151445  107.628545  3.825188e+07   \n",
       "\n",
       "   imdb_score         gross actor_1_name  director_name  \n",
       "0         7.9  7.605058e+08  CCH Pounder  James Cameron  \n",
       "1         7.1  4.823375e+07  Doug Walker    Doug Walker  "
      ]
     },
     "execution_count": 40,
     "metadata": {},
     "output_type": "execute_result"
    }
   ],
   "source": [
    "X_binenc = pd.concat([X,categoricals],axis=1)\n",
    "X_binenc.head(2)"
   ]
  },
  {
   "cell_type": "code",
   "execution_count": 41,
   "id": "37143fd8",
   "metadata": {},
   "outputs": [],
   "source": [
    "import category_encoders as ce\n",
    "encoder = ce.BinaryEncoder(cols=['actor_1_name','director_name'])"
   ]
  },
  {
   "cell_type": "code",
   "execution_count": 43,
   "id": "3254970b",
   "metadata": {},
   "outputs": [
    {
     "data": {
      "text/plain": [
       "(4385, 29)"
      ]
     },
     "execution_count": 43,
     "metadata": {},
     "output_type": "execute_result"
    }
   ],
   "source": [
    " encoder.fit_transform(X_binenc).shape"
   ]
  },
  {
   "cell_type": "code",
   "execution_count": 44,
   "id": "0907263b",
   "metadata": {},
   "outputs": [],
   "source": [
    "binenc = encoder.fit_transform(X_binenc)"
   ]
  },
  {
   "cell_type": "code",
   "execution_count": 45,
   "id": "733e1ef4",
   "metadata": {},
   "outputs": [],
   "source": [
    "Xb_train,Xb_test,y_train,y_test = train_test_split(binenc,y)"
   ]
  },
  {
   "cell_type": "code",
   "execution_count": 46,
   "id": "d0f7d24d",
   "metadata": {},
   "outputs": [],
   "source": [
    "X_train, X_test = (Xb_train[X.columns],Xb_test[X.columns])"
   ]
  },
  {
   "cell_type": "code",
   "execution_count": 49,
   "id": "b312113f",
   "metadata": {},
   "outputs": [],
   "source": [
    "model_binenc = Lasso()\n",
    "model = Lasso()"
   ]
  },
  {
   "cell_type": "code",
   "execution_count": 51,
   "id": "74115f33",
   "metadata": {},
   "outputs": [
    {
     "data": {
      "text/plain": [
       "Lasso()"
      ]
     },
     "execution_count": 51,
     "metadata": {},
     "output_type": "execute_result"
    }
   ],
   "source": [
    "model_binenc.fit(Xb_train,y_train)\n",
    "model.fit(X_train,y_train)"
   ]
  },
  {
   "cell_type": "code",
   "execution_count": 52,
   "id": "5c9cf05a",
   "metadata": {},
   "outputs": [
    {
     "name": "stdout",
     "output_type": "stream",
     "text": [
      "0.8732947397454953\n",
      "0.8758673302355817\n"
     ]
    }
   ],
   "source": [
    "print(model_binenc.score(Xb_test,y_test))\n",
    "print(model.score(X_test,y_test))"
   ]
  },
  {
   "cell_type": "markdown",
   "id": "49398d66",
   "metadata": {},
   "source": [
    "# Conocimiento experto\n",
    "\n",
    "Una gran parte del diseno de las features pasa por un conocimiento especifico del dominio en el que se esta trabajando.\n",
    "Por ejemplo para analizar una imagen, nuestro cerebro no se concentra en los millones de pixeles de la imagen si no que solo en algunos detalles importantes como el contorno de los objetos.\n",
    "\n",
    "Durante un buen tiempo los sistemas de computer vision encodeaban features que traducian este conocimiento experto (contornos).\n",
    "Una de las unicas formas de obtener este conocimiento de manera sistematica es ir a buscar en repositorios algun paper de machine learning (como Arxiv) y estudiar la investigacion que se ha hecho sobre el dominio especifico\n",
    "\n",
    "\n",
    "## Mas datos de calidad\n",
    "\n",
    "Se debe tratar de conseguir mas datos que sean encodeables en features de calidad.\n",
    "\n",
    "Ej. ***Piramide de Maslow del Machine learning***"
   ]
  },
  {
   "cell_type": "code",
   "execution_count": 55,
   "id": "30e215cd",
   "metadata": {},
   "outputs": [
    {
     "data": {
      "text/html": [
       "<div>\n",
       "<style scoped>\n",
       "    .dataframe tbody tr th:only-of-type {\n",
       "        vertical-align: middle;\n",
       "    }\n",
       "\n",
       "    .dataframe tbody tr th {\n",
       "        vertical-align: top;\n",
       "    }\n",
       "\n",
       "    .dataframe thead th {\n",
       "        text-align: right;\n",
       "    }\n",
       "</style>\n",
       "<table border=\"1\" class=\"dataframe\">\n",
       "  <thead>\n",
       "    <tr style=\"text-align: right;\">\n",
       "      <th></th>\n",
       "      <th>production_budget</th>\n",
       "      <th>worldwide_gross</th>\n",
       "      <th>title_year</th>\n",
       "      <th>aspect_ratio</th>\n",
       "      <th>duration.1</th>\n",
       "      <th>cast_total_facebook_likes</th>\n",
       "      <th>budget</th>\n",
       "      <th>imdb_score</th>\n",
       "      <th>opening_gross</th>\n",
       "      <th>screens</th>\n",
       "    </tr>\n",
       "  </thead>\n",
       "  <tbody>\n",
       "    <tr>\n",
       "      <th>0</th>\n",
       "      <td>425000000.0</td>\n",
       "      <td>2.783919e+09</td>\n",
       "      <td>2009.0</td>\n",
       "      <td>1.78</td>\n",
       "      <td>178.0</td>\n",
       "      <td>4834.0</td>\n",
       "      <td>237000000.0</td>\n",
       "      <td>7.9</td>\n",
       "      <td>77025481.0</td>\n",
       "      <td>3452.0</td>\n",
       "    </tr>\n",
       "    <tr>\n",
       "      <th>1</th>\n",
       "      <td>300000000.0</td>\n",
       "      <td>9.634204e+08</td>\n",
       "      <td>2007.0</td>\n",
       "      <td>2.35</td>\n",
       "      <td>169.0</td>\n",
       "      <td>48350.0</td>\n",
       "      <td>300000000.0</td>\n",
       "      <td>7.1</td>\n",
       "      <td>139802190.0</td>\n",
       "      <td>4362.0</td>\n",
       "    </tr>\n",
       "    <tr>\n",
       "      <th>2</th>\n",
       "      <td>300000000.0</td>\n",
       "      <td>8.796209e+08</td>\n",
       "      <td>2015.0</td>\n",
       "      <td>2.35</td>\n",
       "      <td>148.0</td>\n",
       "      <td>11700.0</td>\n",
       "      <td>245000000.0</td>\n",
       "      <td>6.8</td>\n",
       "      <td>70403148.0</td>\n",
       "      <td>3929.0</td>\n",
       "    </tr>\n",
       "    <tr>\n",
       "      <th>3</th>\n",
       "      <td>275000000.0</td>\n",
       "      <td>1.084439e+09</td>\n",
       "      <td>2012.0</td>\n",
       "      <td>2.35</td>\n",
       "      <td>164.0</td>\n",
       "      <td>106759.0</td>\n",
       "      <td>250000000.0</td>\n",
       "      <td>8.5</td>\n",
       "      <td>160887295.0</td>\n",
       "      <td>4404.0</td>\n",
       "    </tr>\n",
       "    <tr>\n",
       "      <th>4</th>\n",
       "      <td>275000000.0</td>\n",
       "      <td>2.600021e+08</td>\n",
       "      <td>2013.0</td>\n",
       "      <td>2.35</td>\n",
       "      <td>150.0</td>\n",
       "      <td>45757.0</td>\n",
       "      <td>215000000.0</td>\n",
       "      <td>6.5</td>\n",
       "      <td>29210849.0</td>\n",
       "      <td>3904.0</td>\n",
       "    </tr>\n",
       "    <tr>\n",
       "      <th>5</th>\n",
       "      <td>275000000.0</td>\n",
       "      <td>2.827781e+08</td>\n",
       "      <td>2012.0</td>\n",
       "      <td>2.35</td>\n",
       "      <td>132.0</td>\n",
       "      <td>1873.0</td>\n",
       "      <td>263700000.0</td>\n",
       "      <td>6.6</td>\n",
       "      <td>30180188.0</td>\n",
       "      <td>3749.0</td>\n",
       "    </tr>\n",
       "    <tr>\n",
       "      <th>6</th>\n",
       "      <td>260000000.0</td>\n",
       "      <td>5.865819e+08</td>\n",
       "      <td>2010.0</td>\n",
       "      <td>1.85</td>\n",
       "      <td>100.0</td>\n",
       "      <td>2036.0</td>\n",
       "      <td>260000000.0</td>\n",
       "      <td>7.8</td>\n",
       "      <td>48767052.0</td>\n",
       "      <td>3603.0</td>\n",
       "    </tr>\n",
       "    <tr>\n",
       "      <th>7</th>\n",
       "      <td>258000000.0</td>\n",
       "      <td>8.908753e+08</td>\n",
       "      <td>2007.0</td>\n",
       "      <td>2.35</td>\n",
       "      <td>156.0</td>\n",
       "      <td>46055.0</td>\n",
       "      <td>258000000.0</td>\n",
       "      <td>6.2</td>\n",
       "      <td>151116516.0</td>\n",
       "      <td>4252.0</td>\n",
       "    </tr>\n",
       "    <tr>\n",
       "      <th>8</th>\n",
       "      <td>258000000.0</td>\n",
       "      <td>8.908753e+08</td>\n",
       "      <td>2007.0</td>\n",
       "      <td>2.35</td>\n",
       "      <td>156.0</td>\n",
       "      <td>46055.0</td>\n",
       "      <td>258000000.0</td>\n",
       "      <td>6.2</td>\n",
       "      <td>151116516.0</td>\n",
       "      <td>4252.0</td>\n",
       "    </tr>\n",
       "    <tr>\n",
       "      <th>9</th>\n",
       "      <td>250000000.0</td>\n",
       "      <td>1.404706e+09</td>\n",
       "      <td>2015.0</td>\n",
       "      <td>2.35</td>\n",
       "      <td>141.0</td>\n",
       "      <td>92000.0</td>\n",
       "      <td>250000000.0</td>\n",
       "      <td>7.5</td>\n",
       "      <td>191271109.0</td>\n",
       "      <td>4276.0</td>\n",
       "    </tr>\n",
       "  </tbody>\n",
       "</table>\n",
       "</div>"
      ],
      "text/plain": [
       "   production_budget  worldwide_gross  title_year  aspect_ratio  duration.1  \\\n",
       "0        425000000.0     2.783919e+09      2009.0          1.78       178.0   \n",
       "1        300000000.0     9.634204e+08      2007.0          2.35       169.0   \n",
       "2        300000000.0     8.796209e+08      2015.0          2.35       148.0   \n",
       "3        275000000.0     1.084439e+09      2012.0          2.35       164.0   \n",
       "4        275000000.0     2.600021e+08      2013.0          2.35       150.0   \n",
       "5        275000000.0     2.827781e+08      2012.0          2.35       132.0   \n",
       "6        260000000.0     5.865819e+08      2010.0          1.85       100.0   \n",
       "7        258000000.0     8.908753e+08      2007.0          2.35       156.0   \n",
       "8        258000000.0     8.908753e+08      2007.0          2.35       156.0   \n",
       "9        250000000.0     1.404706e+09      2015.0          2.35       141.0   \n",
       "\n",
       "   cast_total_facebook_likes       budget  imdb_score  opening_gross  screens  \n",
       "0                     4834.0  237000000.0         7.9     77025481.0   3452.0  \n",
       "1                    48350.0  300000000.0         7.1    139802190.0   4362.0  \n",
       "2                    11700.0  245000000.0         6.8     70403148.0   3929.0  \n",
       "3                   106759.0  250000000.0         8.5    160887295.0   4404.0  \n",
       "4                    45757.0  215000000.0         6.5     29210849.0   3904.0  \n",
       "5                     1873.0  263700000.0         6.6     30180188.0   3749.0  \n",
       "6                     2036.0  260000000.0         7.8     48767052.0   3603.0  \n",
       "7                    46055.0  258000000.0         6.2    151116516.0   4252.0  \n",
       "8                    46055.0  258000000.0         6.2    151116516.0   4252.0  \n",
       "9                    92000.0  250000000.0         7.5    191271109.0   4276.0  "
      ]
     },
     "execution_count": 55,
     "metadata": {},
     "output_type": "execute_result"
    }
   ],
   "source": [
    "#se ocupa el dataset que contenga las ganancias de las peliculas\n",
    "#durante su primer fin de semana de exhibicion, asi como la cantidad\n",
    "#de cines en la que fue estrenada\n",
    "\n",
    "cine= pd.read_csv('C:\\\\Users\\\\chris\\\\Documents\\\\Jupyter Notebook\\\\PredIngresosPeliculas\\\\X_opening.csv')\n",
    "cine.head(10)"
   ]
  },
  {
   "cell_type": "code",
   "execution_count": null,
   "id": "5454311a",
   "metadata": {},
   "outputs": [],
   "source": []
  }
 ],
 "metadata": {
  "kernelspec": {
   "display_name": "Python 3 (ipykernel)",
   "language": "python",
   "name": "python3"
  },
  "language_info": {
   "codemirror_mode": {
    "name": "ipython",
    "version": 3
   },
   "file_extension": ".py",
   "mimetype": "text/x-python",
   "name": "python",
   "nbconvert_exporter": "python",
   "pygments_lexer": "ipython3",
   "version": "3.9.12"
  }
 },
 "nbformat": 4,
 "nbformat_minor": 5
}
