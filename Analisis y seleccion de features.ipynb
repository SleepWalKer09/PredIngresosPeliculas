{
 "cells": [
  {
   "cell_type": "markdown",
   "id": "5f9e863a",
   "metadata": {},
   "source": [
    "# Feedback de tus modelos\n",
    "\n",
    "Ciertos modelos como la regresion o los arboles se dicen \"Interpretables\". Esto quiere decir que de los resultados de los modelos podemos sacar conclusiones o \"Highlights\".\n",
    "\n",
    "En particular la regresion Lasso es interpretable:\n",
    "* Mientras mas grande el coeficiente para una feature, mas relevante es esta para la regresion.\n",
    "\n",
    "* La regresion lasso trata de seleccionar un pequeno numero de features relevantes"
   ]
  },
  {
   "cell_type": "code",
   "execution_count": null,
   "id": "eaa14c05",
   "metadata": {},
   "outputs": [],
   "source": [
    "X = pd.read_csv('./X.csv')\n",
    "y = X('Worldwide_gross')\n",
    "X = X.drop('worldwide_gross',axis=1)"
   ]
  },
  {
   "cell_type": "code",
   "execution_count": null,
   "id": "6446c5be",
   "metadata": {},
   "outputs": [],
   "source": [
    "from sklearn.linear_model import Lasso\n",
    "model = Lasso()"
   ]
  },
  {
   "cell_type": "code",
   "execution_count": null,
   "id": "1a6af944",
   "metadata": {},
   "outputs": [],
   "source": [
    "from sklearn.model_selection import train_test_split\n",
    "\n",
    "X_train, X_test, y_train, y_test = train_test_split(X,y)"
   ]
  },
  {
   "cell_type": "code",
   "execution_count": null,
   "id": "8d94cc86",
   "metadata": {},
   "outputs": [],
   "source": [
    "len(X_train)/len(X)"
   ]
  },
  {
   "cell_type": "code",
   "execution_count": null,
   "id": "c4ad9f4d",
   "metadata": {},
   "outputs": [],
   "source": [
    "model.fit(X_train,y_train)"
   ]
  },
  {
   "cell_type": "code",
   "execution_count": null,
   "id": "2efacd8e",
   "metadata": {},
   "outputs": [],
   "source": [
    "model.score(X_test,y_test)"
   ]
  },
  {
   "cell_type": "code",
   "execution_count": null,
   "id": "3b254d69",
   "metadata": {},
   "outputs": [],
   "source": [
    "#parametros de regresion lineal (mismo largo que la cantidad de features)\n",
    "model.coef_"
   ]
  },
  {
   "cell_type": "code",
   "execution_count": null,
   "id": "6df7caf8",
   "metadata": {},
   "outputs": [],
   "source": [
    "#The numpy.floor is a mathematical function that returns the floor of the elements of array.\n",
    "#The floor of the scalar x is the largest integer i, such that i <= x.\n",
    "var = np.floor(np.log10(np.abs(model.coenf_)))"
   ]
  },
  {
   "cell_type": "code",
   "execution_count": null,
   "id": "ee77b5d0",
   "metadata": {},
   "outputs": [],
   "source": [
    "plt.rcParams[\"figure.figsize\"] = [12,8]\n",
    "plt.plor(var)"
   ]
  },
  {
   "cell_type": "code",
   "execution_count": null,
   "id": "a915199f",
   "metadata": {},
   "outputs": [],
   "source": [
    "plt.rcParams['figure.figsize'] = [12,8]"
   ]
  },
  {
   "cell_type": "markdown",
   "id": "0503f3bd",
   "metadata": {},
   "source": [
    "Esto nos guia a guardar unicamente:\n",
    "* production_budget\n",
    "* title_year\n",
    "* duration\n",
    "* cast_total_facebook_likes\n",
    "* imdb_score"
   ]
  },
  {
   "cell_type": "markdown",
   "id": "83df1f4c",
   "metadata": {},
   "source": [
    " ## Correlacion entre variables\n",
    " \n",
    "si una feature tiene correlacion con la variable objetivo entonces es informativa"
   ]
  },
  {
   "cell_type": "code",
   "execution_count": null,
   "id": "4a48b406",
   "metadata": {},
   "outputs": [],
   "source": [
    "import seaborn as sns\n",
    "Z =pd.concat([X,y],axis=1)\n",
    "sns.pairplot(Z)"
   ]
  },
  {
   "cell_type": "code",
   "execution_count": null,
   "id": "57193d63",
   "metadata": {},
   "outputs": [],
   "source": [
    "# tomara el rango de valores que tiene la variable y lo cortara en 8 pedazos de tama;o similar\n",
    "pd.cut(X['production_budget'],8).cat.codes.rename('class') #cat=cada valor de la variable es un valor categorico"
   ]
  },
  {
   "cell_type": "code",
   "execution_count": null,
   "id": "4dc01710",
   "metadata": {},
   "outputs": [],
   "source": [
    "#entre mas alta la clase, mas cara la pelicula\n",
    "Z2 = pd.concat([X,clase],axis=1)"
   ]
  },
  {
   "cell_type": "code",
   "execution_count": null,
   "id": "d565d6e2",
   "metadata": {},
   "outputs": [],
   "source": [
    "sns.pairplot(z2,hue=‘class’,diag_kind=‘hist’)"
   ]
  },
  {
   "cell_type": "code",
   "execution_count": null,
   "id": "565eacad",
   "metadata": {},
   "outputs": [],
   "source": [
    "Z3 = pd.concat([X,y],axis=1)\n",
    "sns.heatmap(Z3.corr())"
   ]
  },
  {
   "cell_type": "markdown",
   "id": "5fad94a4",
   "metadata": {},
   "source": [
    "De esto concluimos que las variables\n",
    "* Production_budget\n",
    "*IMDB_score\n",
    "\n",
    "son muy importantes"
   ]
  },
  {
   "cell_type": "markdown",
   "id": "c36a8c16",
   "metadata": {},
   "source": []
  },
  {
   "cell_type": "markdown",
   "id": "ea20e327",
   "metadata": {},
   "source": [
    "# Metodos de seleccion automatica de features\n",
    "\n",
    "SKLearn posee una serie de metodos para seleccionar las mejores features.\n"
   ]
  },
  {
   "cell_type": "code",
   "execution_count": null,
   "id": "dccff25c",
   "metadata": {},
   "outputs": [],
   "source": [
    "#Select KBest = analisis univariante, cada feature sera analizado y en funcion de cuanto aporte sera ordenado\n",
    "from sklearn.feature_selection import SelectKBest\n",
    "\n",
    "#forma de calcular que tanta informacion aporta una feature\n",
    "from sklearn.feature_selection import mutual_info_regression\n",
    "\n",
    "selector = SelectKBest(mutual_info_regression, k=4)\n",
    "selector.fit(X,y)"
   ]
  },
  {
   "cell_type": "code",
   "execution_count": null,
   "id": "9b3fa52c",
   "metadata": {},
   "outputs": [],
   "source": [
    "scores = selector.scores_\n",
    "plt.rcParams[\"figure.figsize\"] = [12,8]\n",
    "plt.plot(scores)\n",
    "plt.xticks(np.arange(7),list(X.columns));"
   ]
  },
  {
   "cell_type": "markdown",
   "id": "0dec735c",
   "metadata": {},
   "source": [
    "Del analisis univariante obtenemos que las mejores features son:\n",
    "* production_budget\n",
    "* cast_total_facebook_likes\n",
    "* budget\n",
    "\n",
    "**Guardaremos las 4 features entregadas por la interpretacion de nuestra regresion Lasso**"
   ]
  },
  {
   "cell_type": "code",
   "execution_count": null,
   "id": "3a836fe2",
   "metadata": {},
   "outputs": [],
   "source": [
    "X2 = X[['production_budget','title_year','duration.1','cast_total_facebook_likes','imdb_score']]\n",
    "X3 = X[['production_budget','cast_total_facebook_likes','imdb_score']]"
   ]
  },
  {
   "cell_type": "markdown",
   "id": "199f0076",
   "metadata": {},
   "source": [
    "**Veremos los resultados del modelo con estas features**"
   ]
  },
  {
   "cell_type": "code",
   "execution_count": null,
   "id": "59c859f0",
   "metadata": {},
   "outputs": [],
   "source": [
    "X_train, X_test, y_train, y_test = traom_test_split(X,y)"
   ]
  },
  {
   "cell_type": "code",
   "execution_count": null,
   "id": "e04041c6",
   "metadata": {},
   "outputs": [],
   "source": [
    "cols2 = ['production_budget','title_year','duration.1','cast_total_facebook_likes','imdb_score']\n",
    "X2_train, X2_test, y2_train, y2_test = X_train[cols2],X_test[cols2],y_train, y_test\n",
    "\n",
    "cols3 = ['production_budget','cast_total_facebook_likes','imdb_score']\n",
    "X3_train, X3_test, y3_train, y3_test = X_train[cols3],X_test[cols3],y_train, y_test\n"
   ]
  },
  {
   "cell_type": "code",
   "execution_count": null,
   "id": "ffa0b0c5",
   "metadata": {},
   "outputs": [],
   "source": [
    "from sklearn.linear_model import Lasso\n",
    "model1 = Lasso()\n",
    "model2 = Lasso()\n",
    "model3 = Lasso()\n",
    "\n",
    "model1.fit(X_train,y_train)\n",
    "model2.fit(X2_train,y2_train)\n",
    "model3.fit(X3_train,y3_train)"
   ]
  },
  {
   "cell_type": "code",
   "execution_count": null,
   "id": "d9db2092",
   "metadata": {},
   "outputs": [],
   "source": [
    "#vista del performance de cada modelo con datos test\n",
    "print(model1.score(X_test,y_test))\n",
    "print(model2.score(X2_test,y2_test))\n",
    "print(model3.score(X3_test,y3_test))"
   ]
  }
 ],
 "metadata": {
  "kernelspec": {
   "display_name": "Python 3 (ipykernel)",
   "language": "python",
   "name": "python3"
  },
  "language_info": {
   "codemirror_mode": {
    "name": "ipython",
    "version": 3
   },
   "file_extension": ".py",
   "mimetype": "text/x-python",
   "name": "python",
   "nbconvert_exporter": "python",
   "pygments_lexer": "ipython3",
   "version": "3.9.12"
  }
 },
 "nbformat": 4,
 "nbformat_minor": 5
}
