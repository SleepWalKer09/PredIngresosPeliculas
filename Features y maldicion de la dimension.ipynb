{
 "cells": [
  {
   "cell_type": "markdown",
   "metadata": {},
   "source": [
    "## Una parte muy importante de todo el proceso de ML es la de \"Diseñar la representacion de la que se entregan los datos a los modelos\" para que estos se procesen.\n",
    "\n",
    "Esto equivale, en palabras mas simples, en definir de forma inteligente las features(columnas) de nuestras tablas de datos"
   ]
  },
  {
   "cell_type": "markdown",
   "metadata": {},
   "source": [
    "## Ejemplo de \"Feature Engineering:\"\n",
    "Supongamos que estamos tratando de resolver el problema siguiente:\n",
    "\n",
    "1. Tenemos un problema de reconocer ciertos datos con una sola feature son de una clase 1 o de una clase 2 (por ejemplo \"el producto esta deficiente\" o \"el producto esta funcionando\")\n",
    "\n",
    "2. Por lo tanto estamos resolviendo una \"clasificacion\"\n",
    "\n",
    "3. Para esta clasificacion decidimos tomar SVM, que es un modelo poderoso que funciona buscando la \"mejor\" recta que separa los puntos de cada clase\n",
    "\n",
    "\n",
    "\n",
    "*Features Informativas:* Mas utiles son cuanto mas correlacion se tenga con la variable objetivo\n",
    "\n",
    "*Features Independiente:* Para no tener redundancias tus features seberian ser lo mas independientes posibles entre ellas\n",
    "\n",
    "*Cantidad de Features Controladas:* Nuestra intuicion falla en dimesiones superiores a 3, en la mayoria de los casos aumentar la cantidad de features afecta negativamente el performance si no se controla con una gran cantidad de datos.\n",
    "\n",
    "*POCAS FEATURES ASEGURAN UNA MEJOR INTERPRETACION DEL MODELO*"
   ]
  },
  {
   "cell_type": "code",
   "execution_count": 1,
   "metadata": {},
   "outputs": [],
   "source": [
    "import pandas as pd\n",
    "import seaborn as sns"
   ]
  },
  {
   "cell_type": "code",
   "execution_count": 3,
   "metadata": {},
   "outputs": [
    {
     "data": {
      "text/html": [
       "<div>\n",
       "<style scoped>\n",
       "    .dataframe tbody tr th:only-of-type {\n",
       "        vertical-align: middle;\n",
       "    }\n",
       "\n",
       "    .dataframe tbody tr th {\n",
       "        vertical-align: top;\n",
       "    }\n",
       "\n",
       "    .dataframe thead th {\n",
       "        text-align: right;\n",
       "    }\n",
       "</style>\n",
       "<table border=\"1\" class=\"dataframe\">\n",
       "  <thead>\n",
       "    <tr style=\"text-align: right;\">\n",
       "      <th></th>\n",
       "      <th>production_budget</th>\n",
       "      <th>title_year</th>\n",
       "      <th>aspect_ratio</th>\n",
       "      <th>duration</th>\n",
       "      <th>budget</th>\n",
       "      <th>imdb_score</th>\n",
       "      <th>gross</th>\n",
       "    </tr>\n",
       "  </thead>\n",
       "  <tbody>\n",
       "    <tr>\n",
       "      <th>production_budget</th>\n",
       "      <td>1.000000</td>\n",
       "      <td>0.177951</td>\n",
       "      <td>0.038332</td>\n",
       "      <td>0.293963</td>\n",
       "      <td>0.189753</td>\n",
       "      <td>0.060847</td>\n",
       "      <td>0.632335</td>\n",
       "    </tr>\n",
       "    <tr>\n",
       "      <th>title_year</th>\n",
       "      <td>0.177951</td>\n",
       "      <td>1.000000</td>\n",
       "      <td>0.127155</td>\n",
       "      <td>-0.144260</td>\n",
       "      <td>0.041990</td>\n",
       "      <td>-0.203613</td>\n",
       "      <td>0.014583</td>\n",
       "    </tr>\n",
       "    <tr>\n",
       "      <th>aspect_ratio</th>\n",
       "      <td>0.038332</td>\n",
       "      <td>0.127155</td>\n",
       "      <td>1.000000</td>\n",
       "      <td>-0.027066</td>\n",
       "      <td>0.003891</td>\n",
       "      <td>0.005119</td>\n",
       "      <td>0.022488</td>\n",
       "    </tr>\n",
       "    <tr>\n",
       "      <th>duration</th>\n",
       "      <td>0.293963</td>\n",
       "      <td>-0.144260</td>\n",
       "      <td>-0.027066</td>\n",
       "      <td>1.000000</td>\n",
       "      <td>0.069364</td>\n",
       "      <td>0.312185</td>\n",
       "      <td>0.232074</td>\n",
       "    </tr>\n",
       "    <tr>\n",
       "      <th>budget</th>\n",
       "      <td>0.189753</td>\n",
       "      <td>0.041990</td>\n",
       "      <td>0.003891</td>\n",
       "      <td>0.069364</td>\n",
       "      <td>1.000000</td>\n",
       "      <td>0.025181</td>\n",
       "      <td>0.103063</td>\n",
       "    </tr>\n",
       "    <tr>\n",
       "      <th>imdb_score</th>\n",
       "      <td>0.060847</td>\n",
       "      <td>-0.203613</td>\n",
       "      <td>0.005119</td>\n",
       "      <td>0.312185</td>\n",
       "      <td>0.025181</td>\n",
       "      <td>1.000000</td>\n",
       "      <td>0.187277</td>\n",
       "    </tr>\n",
       "    <tr>\n",
       "      <th>gross</th>\n",
       "      <td>0.632335</td>\n",
       "      <td>0.014583</td>\n",
       "      <td>0.022488</td>\n",
       "      <td>0.232074</td>\n",
       "      <td>0.103063</td>\n",
       "      <td>0.187277</td>\n",
       "      <td>1.000000</td>\n",
       "    </tr>\n",
       "  </tbody>\n",
       "</table>\n",
       "</div>"
      ],
      "text/plain": [
       "                   production_budget  title_year  aspect_ratio  duration  \\\n",
       "production_budget           1.000000    0.177951      0.038332  0.293963   \n",
       "title_year                  0.177951    1.000000      0.127155 -0.144260   \n",
       "aspect_ratio                0.038332    0.127155      1.000000 -0.027066   \n",
       "duration                    0.293963   -0.144260     -0.027066  1.000000   \n",
       "budget                      0.189753    0.041990      0.003891  0.069364   \n",
       "imdb_score                  0.060847   -0.203613      0.005119  0.312185   \n",
       "gross                       0.632335    0.014583      0.022488  0.232074   \n",
       "\n",
       "                     budget  imdb_score     gross  \n",
       "production_budget  0.189753    0.060847  0.632335  \n",
       "title_year         0.041990   -0.203613  0.014583  \n",
       "aspect_ratio       0.003891    0.005119  0.022488  \n",
       "duration           0.069364    0.312185  0.232074  \n",
       "budget             1.000000    0.025181  0.103063  \n",
       "imdb_score         0.025181    1.000000  0.187277  \n",
       "gross              0.103063    0.187277  1.000000  "
      ]
     },
     "execution_count": 3,
     "metadata": {},
     "output_type": "execute_result"
    }
   ],
   "source": [
    "%matplotlib inline\n",
    "X = pd.read_csv('./X.csv').drop('worldwide_gross',axis=1)\n",
    "X.corr()"
   ]
  },
  {
   "cell_type": "code",
   "execution_count": 4,
   "metadata": {},
   "outputs": [
    {
     "data": {
      "text/plain": [
       "<AxesSubplot:>"
      ]
     },
     "execution_count": 4,
     "metadata": {},
     "output_type": "execute_result"
    },
    {
     "data": {
      "image/png": "[encoded data removed]",
      "text/plain": [
       "<Figure size 432x288 with 2 Axes>"
      ]
     },
     "metadata": {
      "needs_background": "light"
     },
     "output_type": "display_data"
    }
   ],
   "source": [
    "#otra forma de visualizar la correlacion\n",
    "sns.heatmap(X.corr())"
   ]
  },
  {
   "cell_type": "markdown",
   "metadata": {},
   "source": [
    "# La maldicion de la dimension\n",
    "\n",
    "En *Dimension superior o igual a 4*, nuestra capacidad de entender los datos se pierde y aun peor se generan fenomenos extraños/contraproducentes ocurren"
   ]
  },
  {
   "cell_type": "code",
   "execution_count": 5,
   "metadata": {},
   "outputs": [
    {
     "data": {
      "text/plain": [
       "[<matplotlib.lines.Line2D at 0x1d67b44f190>]"
      ]
     },
     "execution_count": 5,
     "metadata": {},
     "output_type": "execute_result"
    },
    {
     "data": {
      "image/png": "[encoded data removed]",
      "text/plain": [
       "<Figure size 432x288 with 1 Axes>"
      ]
     },
     "metadata": {
      "needs_background": "light"
     },
     "output_type": "display_data"
    }
   ],
   "source": [
    "import matplotlib.pyplot as plt\n",
    "import numpy as np\n",
    "\n",
    "x = np.arange(1,15)\n",
    "y = np.power(0.1,1/x)\n",
    "plt.plot(x,y)"
   ]
  }
 ],
 "metadata": {
  "kernelspec": {
   "display_name": "Python 3.8.10 64-bit",
   "language": "python",
   "name": "python3"
  },
  "language_info": {
   "codemirror_mode": {
    "name": "ipython",
    "version": 3
   },
   "file_extension": ".py",
   "mimetype": "text/x-python",
   "name": "python",
   "nbconvert_exporter": "python",
   "pygments_lexer": "ipython3",
   "version": "3.8.10"
  },
  "orig_nbformat": 4,
  "vscode": {
   "interpreter": {
    "hash": "27df6c39e468016d5bd68c4da32b2fa11fa4599462241c09b1ffd57cb3f99e1f"
   }
  }
 },
 "nbformat": 4,
 "nbformat_minor": 2
}
